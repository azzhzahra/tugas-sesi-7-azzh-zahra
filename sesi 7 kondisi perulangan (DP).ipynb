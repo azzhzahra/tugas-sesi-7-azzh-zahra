{
 "cells": [
  {
   "cell_type": "markdown",
   "id": "93d5766f",
   "metadata": {},
   "source": [
    "1.Buatlah program utuk membalik sebuah kalimat, misal;\n",
    "\n",
    "Input : \"LUPA-LUPA INGAT\"\n",
    "\n",
    "Output : \"TAGNI APUL-APUL\""
   ]
  },
  {
   "cell_type": "code",
   "execution_count": 1,
   "id": "c4cacc64",
   "metadata": {},
   "outputs": [
    {
     "name": "stdout",
     "output_type": "stream",
     "text": [
      "masukan kalimat:lupa-lupa ingat\n",
      "tagni apul-apul"
     ]
    }
   ],
   "source": [
    "kalimat = input('masukan kalimat:')\n",
    "jumlah_huruf = len(kalimat)\n",
    "\n",
    "for i in range(jumlah_huruf):\n",
    "    print(kalimat[jumlah_huruf-i-1],end='')\n",
    "    \n",
    "    "
   ]
  },
  {
   "cell_type": "markdown",
   "id": "71296ad6",
   "metadata": {},
   "source": [
    "2.Buatlah program untuk menghitung jumlah masing-masing huruf vokal, dengan output seperti berikut ini: Kalimat : \"Universitas Nusa Putera\"\n",
    "\n",
    "Output :\n",
    "\n",
    "Jumlah huruf A = 3\n",
    "\n",
    "Jumlah huruf I = 2\n",
    "\n",
    "Jumlah huruf U = 3\n",
    "\n",
    "Jumlah huruf E = 2\n",
    "\n",
    "Jumlah huruf O = 0\n",
    "\n",
    "Total jumlah huruf vokal = 10"
   ]
  },
  {
   "cell_type": "code",
   "execution_count": 9,
   "id": "045ce8c6",
   "metadata": {},
   "outputs": [
    {
     "name": "stdout",
     "output_type": "stream",
     "text": [
      "tuliskan teks: universitas nusa putera\n",
      "  a -> 3\n",
      "  i -> 2\n",
      "  u -> 3\n",
      "  e -> 2\n",
      "  o -> 0\n",
      "Total huruf vokal: 10\n"
     ]
    }
   ],
   "source": [
    "teks = input('tuliskan teks: ').lower()\n",
    "huruf_vokal = {\n",
    "  'a': 0,\n",
    "  'i': 0,\n",
    "  'u': 0,\n",
    "  'e': 0,\n",
    "  'o': 0\n",
    "}\n",
    "total_huruf_vokal = 0\n",
    "\n",
    "for karakter in teks:\n",
    "  if karakter in ['a', 'i', 'u', 'e',  'o']:\n",
    "    huruf_vokal[karakter] += 1\n",
    "    total_huruf_vokal += 1\n",
    "\n",
    "print(f\"\"\"\\\n",
    "  a -> {huruf_vokal['a']}\n",
    "  i -> {huruf_vokal['i']}\n",
    "  u -> {huruf_vokal['u']}\n",
    "  e -> {huruf_vokal['e']}\n",
    "  o -> {huruf_vokal['o']}\\\n",
    "\"\"\")\n",
    "print(f'Total huruf vokal: {total_huruf_vokal}')"
   ]
  }
 ],
 "metadata": {
  "kernelspec": {
   "display_name": "Python 3 (ipykernel)",
   "language": "python",
   "name": "python3"
  },
  "language_info": {
   "codemirror_mode": {
    "name": "ipython",
    "version": 3
   },
   "file_extension": ".py",
   "mimetype": "text/x-python",
   "name": "python",
   "nbconvert_exporter": "python",
   "pygments_lexer": "ipython3",
   "version": "3.9.12"
  }
 },
 "nbformat": 4,
 "nbformat_minor": 5
}
